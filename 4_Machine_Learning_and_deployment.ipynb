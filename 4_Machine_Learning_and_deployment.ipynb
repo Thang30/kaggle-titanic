{
 "cells": [
  {
   "cell_type": "markdown",
   "metadata": {},
   "source": [
    "# **Titanic: Machine Learning from Disaster - Part 4** #"
   ]
  },
  {
   "cell_type": "code",
   "execution_count": 1,
   "metadata": {
    "collapsed": false,
    "scrolled": true
   },
   "outputs": [
    {
     "data": {
      "text/html": [
       "<div>\n",
       "<table border=\"1\" class=\"dataframe\">\n",
       "  <thead>\n",
       "    <tr style=\"text-align: right;\">\n",
       "      <th></th>\n",
       "      <th>Survived</th>\n",
       "      <th>Age</th>\n",
       "      <th>Fare</th>\n",
       "      <th>Pclass_1</th>\n",
       "      <th>Pclass_2</th>\n",
       "      <th>Pclass_3</th>\n",
       "      <th>Family</th>\n",
       "      <th>Sex_female</th>\n",
       "      <th>Sex_male</th>\n",
       "    </tr>\n",
       "  </thead>\n",
       "  <tbody>\n",
       "    <tr>\n",
       "      <th>0</th>\n",
       "      <td>0</td>\n",
       "      <td>22.0</td>\n",
       "      <td>7.2500</td>\n",
       "      <td>0</td>\n",
       "      <td>0</td>\n",
       "      <td>1</td>\n",
       "      <td>1</td>\n",
       "      <td>0</td>\n",
       "      <td>1</td>\n",
       "    </tr>\n",
       "    <tr>\n",
       "      <th>1</th>\n",
       "      <td>1</td>\n",
       "      <td>38.0</td>\n",
       "      <td>71.2833</td>\n",
       "      <td>1</td>\n",
       "      <td>0</td>\n",
       "      <td>0</td>\n",
       "      <td>1</td>\n",
       "      <td>1</td>\n",
       "      <td>0</td>\n",
       "    </tr>\n",
       "    <tr>\n",
       "      <th>2</th>\n",
       "      <td>1</td>\n",
       "      <td>26.0</td>\n",
       "      <td>7.9250</td>\n",
       "      <td>0</td>\n",
       "      <td>0</td>\n",
       "      <td>1</td>\n",
       "      <td>0</td>\n",
       "      <td>1</td>\n",
       "      <td>0</td>\n",
       "    </tr>\n",
       "    <tr>\n",
       "      <th>3</th>\n",
       "      <td>1</td>\n",
       "      <td>35.0</td>\n",
       "      <td>53.1000</td>\n",
       "      <td>1</td>\n",
       "      <td>0</td>\n",
       "      <td>0</td>\n",
       "      <td>1</td>\n",
       "      <td>1</td>\n",
       "      <td>0</td>\n",
       "    </tr>\n",
       "    <tr>\n",
       "      <th>4</th>\n",
       "      <td>0</td>\n",
       "      <td>35.0</td>\n",
       "      <td>8.0500</td>\n",
       "      <td>0</td>\n",
       "      <td>0</td>\n",
       "      <td>1</td>\n",
       "      <td>0</td>\n",
       "      <td>0</td>\n",
       "      <td>1</td>\n",
       "    </tr>\n",
       "  </tbody>\n",
       "</table>\n",
       "</div>"
      ],
      "text/plain": [
       "   Survived   Age     Fare  Pclass_1  Pclass_2  Pclass_3  Family  Sex_female  \\\n",
       "0         0  22.0   7.2500         0         0         1       1           0   \n",
       "1         1  38.0  71.2833         1         0         0       1           1   \n",
       "2         1  26.0   7.9250         0         0         1       0           1   \n",
       "3         1  35.0  53.1000         1         0         0       1           1   \n",
       "4         0  35.0   8.0500         0         0         1       0           0   \n",
       "\n",
       "   Sex_male  \n",
       "0         1  \n",
       "1         0  \n",
       "2         0  \n",
       "3         0  \n",
       "4         1  "
      ]
     },
     "execution_count": 1,
     "metadata": {},
     "output_type": "execute_result"
    }
   ],
   "source": [
    "import pandas as pd\n",
    "%matplotlib inline\n",
    "\n",
    "# load the already explored datasets\n",
    "train = pd.read_csv('dataset/train_explored.csv')\n",
    "test = pd.read_csv('dataset/test_explored.csv')\n",
    "\n",
    "train.head()"
   ]
  },
  {
   "cell_type": "markdown",
   "metadata": {},
   "source": [
    "## **5. Machine Learning** ##\n",
    "\n",
    "In this section, we build a predictive model based on machine learning algorithms so that we can predict the chance of surviving for unseen data. First, we need to do some preprocessing steps. A very popular preprocessing approach before modeling is normalization (except for some algorithms like Decision Tree). Let's do it."
   ]
  },
  {
   "cell_type": "code",
   "execution_count": 2,
   "metadata": {
    "collapsed": false
   },
   "outputs": [],
   "source": [
    "from sklearn.preprocessing import StandardScaler\n",
    "\n",
    "# split into X(our features) and Y(our output)\n",
    "X_train = train.drop(\"Survived\", axis =1)\n",
    "Y_train = train['Survived']\n",
    "X_test = test\n",
    "\n",
    "# normalization the data\n",
    "X_scaler = StandardScaler()\n",
    "X_train = X_scaler.fit_transform(X_train)\n",
    "\n",
    "# notice that it is \"transform\", not \"fit_transform\"\n",
    "X_test = X_scaler.transform(X_test)"
   ]
  },
  {
   "cell_type": "markdown",
   "metadata": {},
   "source": [
    "Next, we will spot-check some machine learning models. The Titanic competition is a binary classification problem. Here are the models and their core ideas:\n",
    "- Logistic regression: the probabilities describing the possible outcomes of a single trial are modeled using a logistic function.\n",
    "- K-nearest neighbor: an instance's output is equal to the most voted labels of its k nearest neighbors.\n",
    "- Support vector machine: construct a seperation hyperplane that has the largest distance to the nearest training-data point of any class.\n",
    "- Majority voting: an ensemble model where we combine different machine learning classifiers (here are the previous 3!) and use a majority vote (hard) or the average predicted probabilities (soft) to predict the class labels."
   ]
  },
  {
   "cell_type": "code",
   "execution_count": 3,
   "metadata": {
    "collapsed": false
   },
   "outputs": [],
   "source": [
    "from sklearn.linear_model import LogisticRegression\n",
    "from sklearn.neighbors import KNeighborsClassifier\n",
    "from sklearn.svm import SVC\n",
    "from sklearn.ensemble import VotingClassifier\n",
    "\n",
    "# list of models\n",
    "models = []\n",
    "\n",
    "# logistic regression\n",
    "cl1 = LogisticRegression(n_jobs = -1)\n",
    "models.append(('LR', cl1))\n",
    "\n",
    "# k-nearest neighbors\n",
    "cl2 = KNeighborsClassifier(n_jobs = -1)\n",
    "models.append(('KNN', cl2))\n",
    "\n",
    "# support vector machine\n",
    "cl3 = SVC(probability = True, cache_size = 1000)\n",
    "models.append(('SVM', cl3))\n",
    "\n",
    "# majority voting\n",
    "mv_cl = VotingClassifier(estimators=[('LR', cl1), ('KNN', cl2),\n",
    "                                    ('SVM', cl3)],\n",
    "                                    voting='soft', n_jobs = -1)\n",
    "models.append(('EN', mv_cl))"
   ]
  },
  {
   "cell_type": "markdown",
   "metadata": {},
   "source": [
    "We will compare the 4 different approach by their cross-validation scores on the train data, then visualize them on boxplots."
   ]
  },
  {
   "cell_type": "code",
   "execution_count": 4,
   "metadata": {
    "collapsed": false
   },
   "outputs": [
    {
     "name": "stdout",
     "output_type": "stream",
     "text": [
      "LR: 0.791261 +/- 0.020664\n",
      "KNN: 0.811548 +/- 0.047019\n",
      "SVM: 0.819313 +/- 0.031499\n",
      "EN: 0.823820 +/- 0.029561\n"
     ]
    }
   ],
   "source": [
    "from helpers.compare_algorithms_helper import evaluate_models\n",
    "\n",
    "# compute the mean and standard deviation of CV scores\n",
    "results, names = evaluate_models(models, X_train, Y_train)"
   ]
  },
  {
   "cell_type": "code",
   "execution_count": 5,
   "metadata": {
    "collapsed": false
   },
   "outputs": [
    {
     "data": {
      "image/png": "[encoded data removed]",
      "text/plain": [
       "<matplotlib.figure.Figure at 0xa63898e518>"
      ]
     },
     "metadata": {},
     "output_type": "display_data"
    }
   ],
   "source": [
    "from helpers.compare_algorithms_helper import boxplot_algorithm_comparison\n",
    "\n",
    "# visualize the CV scores\n",
    "boxplot_algorithm_comparison(results, names)"
   ]
  },
  {
   "cell_type": "markdown",
   "metadata": {},
   "source": [
    "After spot-check the default implementation of machine learning algorithms on scikit-learn, the ensemble model (voting classifier) seems to produce the best result with high mean and low standard deviation (cross-validation scores). It will be our model of choice. Next, we will tune the selected model to improve its performance."
   ]
  },
  {
   "cell_type": "code",
   "execution_count": 6,
   "metadata": {
    "collapsed": false
   },
   "outputs": [
    {
     "data": {
      "text/plain": [
       "{'KNN': KNeighborsClassifier(algorithm='auto', leaf_size=30, metric='minkowski',\n",
       "            metric_params=None, n_jobs=-1, n_neighbors=5, p=2,\n",
       "            weights='uniform'),\n",
       " 'KNN__algorithm': 'auto',\n",
       " 'KNN__leaf_size': 30,\n",
       " 'KNN__metric': 'minkowski',\n",
       " 'KNN__metric_params': None,\n",
       " 'KNN__n_jobs': -1,\n",
       " 'KNN__n_neighbors': 5,\n",
       " 'KNN__p': 2,\n",
       " 'KNN__weights': 'uniform',\n",
       " 'LR': LogisticRegression(C=1.0, class_weight=None, dual=False, fit_intercept=True,\n",
       "           intercept_scaling=1, max_iter=100, multi_class='ovr', n_jobs=-1,\n",
       "           penalty='l2', random_state=None, solver='liblinear', tol=0.0001,\n",
       "           verbose=0, warm_start=False),\n",
       " 'LR__C': 1.0,\n",
       " 'LR__class_weight': None,\n",
       " 'LR__dual': False,\n",
       " 'LR__fit_intercept': True,\n",
       " 'LR__intercept_scaling': 1,\n",
       " 'LR__max_iter': 100,\n",
       " 'LR__multi_class': 'ovr',\n",
       " 'LR__n_jobs': -1,\n",
       " 'LR__penalty': 'l2',\n",
       " 'LR__random_state': None,\n",
       " 'LR__solver': 'liblinear',\n",
       " 'LR__tol': 0.0001,\n",
       " 'LR__verbose': 0,\n",
       " 'LR__warm_start': False,\n",
       " 'SVM': SVC(C=1.0, cache_size=1000, class_weight=None, coef0=0.0,\n",
       "   decision_function_shape=None, degree=3, gamma='auto', kernel='rbf',\n",
       "   max_iter=-1, probability=True, random_state=None, shrinking=True,\n",
       "   tol=0.001, verbose=False),\n",
       " 'SVM__C': 1.0,\n",
       " 'SVM__cache_size': 1000,\n",
       " 'SVM__class_weight': None,\n",
       " 'SVM__coef0': 0.0,\n",
       " 'SVM__decision_function_shape': None,\n",
       " 'SVM__degree': 3,\n",
       " 'SVM__gamma': 'auto',\n",
       " 'SVM__kernel': 'rbf',\n",
       " 'SVM__max_iter': -1,\n",
       " 'SVM__probability': True,\n",
       " 'SVM__random_state': None,\n",
       " 'SVM__shrinking': True,\n",
       " 'SVM__tol': 0.001,\n",
       " 'SVM__verbose': False,\n",
       " 'estimators': [('LR',\n",
       "   LogisticRegression(C=1.0, class_weight=None, dual=False, fit_intercept=True,\n",
       "             intercept_scaling=1, max_iter=100, multi_class='ovr', n_jobs=-1,\n",
       "             penalty='l2', random_state=None, solver='liblinear', tol=0.0001,\n",
       "             verbose=0, warm_start=False)),\n",
       "  ('KNN',\n",
       "   KNeighborsClassifier(algorithm='auto', leaf_size=30, metric='minkowski',\n",
       "              metric_params=None, n_jobs=-1, n_neighbors=5, p=2,\n",
       "              weights='uniform')),\n",
       "  ('SVM', SVC(C=1.0, cache_size=1000, class_weight=None, coef0=0.0,\n",
       "     decision_function_shape=None, degree=3, gamma='auto', kernel='rbf',\n",
       "     max_iter=-1, probability=True, random_state=None, shrinking=True,\n",
       "     tol=0.001, verbose=False))],\n",
       " 'n_jobs': -1,\n",
       " 'voting': 'soft',\n",
       " 'weights': None}"
      ]
     },
     "execution_count": 6,
     "metadata": {},
     "output_type": "execute_result"
    }
   ],
   "source": [
    "model = mv_cl\n",
    "model.get_params()"
   ]
  },
  {
   "cell_type": "markdown",
   "metadata": {},
   "source": [
    "We will use nested cross-validation. In the inner loop, we will use a grid search exhaustive approach to find the best hyperparameters for the individual models in our ensemble model. Then in the outer loop, we will validate our model on the whole train data."
   ]
  },
  {
   "cell_type": "code",
   "execution_count": 7,
   "metadata": {
    "collapsed": false
   },
   "outputs": [
    {
     "data": {
      "text/plain": [
       "array([ 0.80808081,  0.82828283,  0.81818182])"
      ]
     },
     "execution_count": 7,
     "metadata": {},
     "output_type": "execute_result"
    }
   ],
   "source": [
    "from sklearn.model_selection import GridSearchCV, cross_val_score\n",
    "\n",
    "# Set up possible values of parameters to optimize over\n",
    "p_grid = {'KNN__n_neighbors': [5, 10, 15],\n",
    "                 'LR__C': [0.1, 1.0, 10.0],\n",
    "                  'SVM__kernel': ['linear', 'poly', 'rbf', 'sigmoid'],\n",
    "                 'SVM__C': [0.1, 1.0, 10.0],\n",
    "                }\n",
    "\n",
    "# inner loop of cross-validation\n",
    "grid = GridSearchCV(estimator = model, param_grid=p_grid, cv = 5, n_jobs = -1)\n",
    "\n",
    "# outer loop of cross-validation\n",
    "cross_val_score(grid, X = X_train, y = Y_train, cv = 3, n_jobs = -1)"
   ]
  },
  {
   "cell_type": "markdown",
   "metadata": {},
   "source": [
    "We will \"retrain\" our model using the new optimized hyperparameters, then use the model to predict the result on the test set."
   ]
  },
  {
   "cell_type": "code",
   "execution_count": 8,
   "metadata": {
    "collapsed": false
   },
   "outputs": [],
   "source": [
    "# retrain the model\n",
    "grid.fit(X_train, Y_train)\n",
    "\n",
    "# predict on test set\n",
    "Y_pred = grid.predict(X_test)"
   ]
  },
  {
   "cell_type": "markdown",
   "metadata": {},
   "source": [
    "## **6. Deployment.** ##\n",
    "\n",
    "Finally, we will deploy our result, which is creating a .csv file to store our prediction. "
   ]
  },
  {
   "cell_type": "code",
   "execution_count": 9,
   "metadata": {
    "collapsed": false
   },
   "outputs": [],
   "source": [
    "test_df = pd.read_csv('dataset/test.csv')\n",
    "submission = pd.DataFrame({\n",
    "        \"PassengerId\": test_df[\"PassengerId\"],\n",
    "        \"Survived\": Y_pred\n",
    "    })\n",
    "submission.to_csv('outputs/titanic.csv', index=False)"
   ]
  },
  {
   "cell_type": "markdown",
   "metadata": {},
   "source": [
    "Now we are ready to submit our solution to Kaggle!"
   ]
  }
 ],
 "metadata": {
  "anaconda-cloud": {},
  "kernelspec": {
   "display_name": "Python [conda root]",
   "language": "python",
   "name": "conda-root-py"
  },
  "language_info": {
   "codemirror_mode": {
    "name": "ipython",
    "version": 3
   },
   "file_extension": ".py",
   "mimetype": "text/x-python",
   "name": "python",
   "nbconvert_exporter": "python",
   "pygments_lexer": "ipython3",
   "version": "3.5.2"
  }
 },
 "nbformat": 4,
 "nbformat_minor": 1
}
